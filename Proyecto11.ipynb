{
  "nbformat": 4,
  "nbformat_minor": 0,
  "metadata": {
    "colab": {
      "provenance": []
    },
    "kernelspec": {
      "name": "python3",
      "display_name": "Python 3"
    },
    "language_info": {
      "name": "python"
    }
  },
  "cells": [
    {
      "cell_type": "markdown",
      "source": [
        "11 - Una empresa de comercio electrónico está interesada en analizar las ventas de sus productos. Los datos de ventas se han almacenado en un diccionario:\n",
        "\n",
        "{'Producto A': 300, 'Producto B': 80, 'Producto C': 60, 'Producto D': 200, 'Producto E': 250, 'Producto F': 30}\n",
        "\n",
        "Escribe un código que calcule el total de ventas y el producto más vendido."
      ],
      "metadata": {
        "id": "gLTZueK9W5BB"
      }
    },
    {
      "cell_type": "code",
      "source": [
        "# Introducimos los datos de las ventas en un diccionario\n",
        "productos_vendidos = {\n",
        "    'Producto A': 300,\n",
        "    'Producto B': 80,\n",
        "    'Producto C': 60,\n",
        "    'Producto D': 200,\n",
        "    'Producto E': 250,\n",
        "    'Producto F': 30\n",
        "}\n",
        "\n",
        "# Cálculo del total de ventas\n",
        "total_ventas = sum(productos_vendidos.values())\n",
        "print(f\"El total de ventas es: {total_ventas}\")\n",
        "\n",
        "# Identificación del producto más vendido\n",
        "producto_mas_vendido = max(productos_vendidos, key=productos_vendidos.get)\n",
        "print(f\"El producto más vendido es: {producto_mas_vendido}\")\n",
        "\n",
        "# Nota: Si el ejercicio requería mostrar también las unidades del producto más vendido (como en el ejemplo anterior), se podría modificar así:\n",
        "print(f\"El producto más vendido es: {producto_mas_vendido} ({productos_vendidos[producto_mas_vendido]} unidades)\")"
      ],
      "metadata": {
        "colab": {
          "base_uri": "https://localhost:8080/"
        },
        "id": "UykaJr3qW8j1",
        "outputId": "531c85e1-0d1c-4e61-bfd4-a05c3057f9a3"
      },
      "execution_count": 2,
      "outputs": [
        {
          "output_type": "stream",
          "name": "stdout",
          "text": [
            "El total de ventas es: 920\n",
            "El producto más vendido es: Producto A\n",
            "El producto más vendido es: Producto A (300 unidades)\n"
          ]
        }
      ]
    },
    {
      "cell_type": "code",
      "source": [],
      "metadata": {
        "id": "kH4Wj-yynttY"
      },
      "execution_count": null,
      "outputs": []
    }
  ]
}